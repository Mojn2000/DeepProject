{
  "nbformat": 4,
  "nbformat_minor": 0,
  "metadata": {
    "colab": {
      "name": "add_padding.ipynb",
      "provenance": [],
      "collapsed_sections": [],
      "include_colab_link": true
    },
    "kernelspec": {
      "name": "python3",
      "display_name": "Python 3"
    },
    "language_info": {
      "name": "python"
    }
  },
  "cells": [
    {
      "cell_type": "markdown",
      "metadata": {
        "id": "view-in-github",
        "colab_type": "text"
      },
      "source": [
        "<a href=\"https://colab.research.google.com/github/Mojn2000/DeepProject/blob/main/add_padding.ipynb\" target=\"_parent\"><img src=\"https://colab.research.google.com/assets/colab-badge.svg\" alt=\"Open In Colab\"/></a>"
      ]
    },
    {
      "cell_type": "code",
      "metadata": {
        "colab": {
          "base_uri": "https://localhost:8080/"
        },
        "id": "bJhW19lIkDWX",
        "outputId": "95960560-3d17-45e3-980c-361bf0469215"
      },
      "source": [
        "!pip3 install pickle5\n",
        "import pickle5 as pickle\n",
        "import pandas as pd\n",
        "import numpy as np\n",
        "import os\n",
        "\n",
        "from google.colab import drive\n",
        "drive.mount('/content/drive')\n",
        "\n",
        "drive_path = 'drive/My Drive/Skole/Uni/9_semester/02456_deep_learning/Project/'\n",
        "\n",
        "if (not(os.path.exists(drive_path))):\n",
        "  drive_path = 'drive/MyDrive/DL project/'  # Idas path    \n",
        "\n",
        "f0 = 'aligned_GM-7792_DRD-d6b1cf27-41ed-43b6-8050-2068ef941a0aDRD-d6b1cf27-41ed-43b6-8050-2068ef941a0a_GM-7792_pass-0_cleaned.pickle'\n",
        "f1 = 'aligned_GM-7792_DRD-d6b1cf27-41ed-43b6-8050-2068ef941a0aDRD-d6b1cf27-41ed-43b6-8050-2068ef941a0a_GM-7792_pass-1_cleaned.pickle'\n",
        "\n",
        "with open(drive_path + f0, 'rb') as f:\n",
        "    data0 = pickle.load(f)\n",
        "\n",
        "with open(drive_path + f1, 'rb') as f:\n",
        "    data1 = pickle.load(f)\n",
        "\n",
        "data = data0.append(data1)"
      ],
      "execution_count": null,
      "outputs": [
        {
          "output_type": "stream",
          "name": "stdout",
          "text": [
            "Collecting pickle5\n",
            "  Downloading pickle5-0.0.11.tar.gz (132 kB)\n",
            "\u001b[?25l\r\u001b[K     |██▌                             | 10 kB 17.4 MB/s eta 0:00:01\r\u001b[K     |█████                           | 20 kB 19.1 MB/s eta 0:00:01\r\u001b[K     |███████▍                        | 30 kB 16.5 MB/s eta 0:00:01\r\u001b[K     |██████████                      | 40 kB 17.7 MB/s eta 0:00:01\r\u001b[K     |████████████▍                   | 51 kB 18.5 MB/s eta 0:00:01\r\u001b[K     |██████████████▉                 | 61 kB 19.1 MB/s eta 0:00:01\r\u001b[K     |█████████████████▍              | 71 kB 19.5 MB/s eta 0:00:01\r\u001b[K     |███████████████████▉            | 81 kB 20.5 MB/s eta 0:00:01\r\u001b[K     |██████████████████████▎         | 92 kB 22.1 MB/s eta 0:00:01\r\u001b[K     |████████████████████████▉       | 102 kB 23.4 MB/s eta 0:00:01\r\u001b[K     |███████████████████████████▎    | 112 kB 23.4 MB/s eta 0:00:01\r\u001b[K     |█████████████████████████████▊  | 122 kB 23.4 MB/s eta 0:00:01\r\u001b[K     |████████████████████████████████| 132 kB 23.4 MB/s \n",
            "\u001b[?25hBuilding wheels for collected packages: pickle5\n",
            "  Building wheel for pickle5 (setup.py) ... \u001b[?25l\u001b[?25hdone\n",
            "  Created wheel for pickle5: filename=pickle5-0.0.11-cp37-cp37m-linux_x86_64.whl size=219326 sha256=740374c8d7dc94275752c03aec65f789a25e04ee8a1dd623ed7a0cc6c377edf4\n",
            "  Stored in directory: /root/.cache/pip/wheels/7e/6a/00/67136a90d6aca437d806d1d3cedf98106e840c97a3e5188198\n",
            "Successfully built pickle5\n",
            "Installing collected packages: pickle5\n",
            "Successfully installed pickle5-0.0.11\n",
            "Mounted at /content/drive\n"
          ]
        }
      ]
    },
    {
      "cell_type": "code",
      "metadata": {
        "id": "tXHJjjuEsVyO"
      },
      "source": [
        "## Pad acc.z\n",
        "data['acc.len'] = data['GM.acc.xyz.z'].map(lambda x: len(x))\n",
        "max_len = np.sort(data['acc.len'])[ int(len(data['acc.len'])*0.8) ]\n",
        "data['GM.acc.xyz.z'] = data['GM.acc.xyz.z'].map(lambda x: np.append(x,np.zeros(max_len-len(x))) if len(x)<=max_len else x[0:max_len])                                                "
      ],
      "execution_count": null,
      "outputs": []
    },
    {
      "cell_type": "code",
      "metadata": {
        "id": "8sdxzY-vvFks"
      },
      "source": [
        "## Pad speed\n",
        "##data['speed.len'] = data['GM.obd.spd_veh.value'].map(lambda x: len(x))\n",
        "#max_len = np.sort(data['speed.len'])[ int(len(data['speed.len'])*0.8) ]\n",
        "#data['GM.obd.spd_veh.value'] = data['GM.obd.spd_veh.value'].map(lambda x: np.append(x,np.zeros(max_len-len(x))) if len(x)<=max_len else x[0:max_len])                                                "
      ],
      "execution_count": null,
      "outputs": []
    },
    {
      "cell_type": "code",
      "metadata": {
        "id": "4kJ4fxj1v8xK"
      },
      "source": [
        "## Remove unused data\n",
        "dropList = ['GM.TS_or_Distance', 'GM.T', 'GM.lat_int', 'GM.lon_int', 'GM.acc.xyz.y', 'GM.acc.xyz.x', 'acc.len','GM.obd.spd_veh.value']\n",
        "data = data.drop(columns=dropList)"
      ],
      "execution_count": null,
      "outputs": []
    },
    {
      "cell_type": "code",
      "metadata": {
        "id": "CRXkIGnoknu9"
      },
      "source": [
        "## Compress data\n",
        "data.to_pickle(drive_path+'padded_data.pickle')"
      ],
      "execution_count": null,
      "outputs": []
    }
  ]
}